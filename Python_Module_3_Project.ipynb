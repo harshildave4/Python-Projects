{
  "nbformat": 4,
  "nbformat_minor": 0,
  "metadata": {
    "colab": {
      "name": "Python Module 3 Project",
      "provenance": [],
      "collapsed_sections": [],
      "include_colab_link": true
    },
    "kernelspec": {
      "name": "python3",
      "display_name": "Python 3"
    }
  },
  "cells": [
    {
      "cell_type": "markdown",
      "metadata": {
        "id": "view-in-github",
        "colab_type": "text"
      },
      "source": [
        "<a href=\"https://colab.research.google.com/github/harshildave4/Python-Projects/blob/main/Python_Module_3_Project.ipynb\" target=\"_parent\"><img src=\"https://colab.research.google.com/assets/colab-badge.svg\" alt=\"Open In Colab\"/></a>"
      ]
    },
    {
      "cell_type": "code",
      "metadata": {
        "id": "SHvzB9yWjNTT"
      },
      "source": [
        "# COMPUTER TAG\r\n",
        "# THE OBJECTIVE IS TO NOT GET CAUGHT BY THE COMPUTER\r\n",
        "# TELL WHERE YOU WANT TO PUT YOUR MARKER, IF THE COMPUTERS MARKER COMES NEXT TO YOURS, YOU LOSE!\r\n",
        "# You are X, the computer is O.\r\n",
        "\r\n",
        "print(\"Here is the game board: \\n\")\r\n",
        "print(\"|  1  |  2  |  3  |  4  |  5  |  6  |  7  |  8  |\\n|  9  | 10  | 11  | 12  |  13 | 14  | 15  |  16 |\")\r\n",
        "\r\n",
        "user_input = int(input(\"\\nEnter the number of the area you want to mark: \"))\r\n",
        "\r\n",
        "while (user_input != 3) and (user_input != 6) and (user_input != 12) and (user_input != 16):\r\n",
        "  if user_input == 1:\r\n",
        "    print(\"\\n|  X  |     |     |     |     |     |     |     |\\n|     |     |     |     |     |     |     |  O  |\")\r\n",
        "  elif user_input == 2:\r\n",
        "    print(\"\\n|     |  X  |     |     |     |     |     |     |\\n|     |     |     |     |     |     |  O  |     |\")\r\n",
        "  elif user_input == 4:\r\n",
        "    print(\"\\n|     |     |     |  X  |     |     |     |     |\\n|     |     |     |     |  O  |     |     |     |\")\r\n",
        "  elif user_input == 5:\r\n",
        "    print(\"\\n|     |     |     |     |  X  |     |     |     |\\n|     |     |     |  O  |     |     |     |     |\")\r\n",
        "  elif user_input == 7:\r\n",
        "    print(\"\\n|     |     |     |     |     |     |  X  |     |\\n|     |  O  |     |     |     |     |     |     |\")\r\n",
        "  elif user_input == 8:\r\n",
        "    print(\"\\n|     |     |     |     |     |     |     |  X  |\\n|     |     |     |     |     |  O  |     |     |\")\r\n",
        "  elif user_input == 9:\r\n",
        "    print(\"\\n|     |     |     |     |     |     |     |     |\\n|  X  |     |  O  |     |     |     |     |     |\")\r\n",
        "  elif user_input == 10:\r\n",
        "    print(\"\\n|     |     |     |     |     |     |  O  |     |\\n|     |  X  |     |     |     |     |     |     |\")\r\n",
        "  elif user_input == 11:\r\n",
        "    print(\"\\n|     |     |     |     |     |  O  |     |     |\\n|     |     |  X  |     |     |     |     |     |\")\r\n",
        "  elif user_input == 13:\r\n",
        "    print(\"\\n|     |     |     |  O  |     |     |     |     |\\n|     |     |     |     |  X  |     |     |     |\")\r\n",
        "  elif user_input == 14:\r\n",
        "    print(\"\\n|     |     |  O  |     |     |     |     |     |\\n|     |     |     |     |     |  X  |     |     |\")\r\n",
        "  elif user_input == 15:\r\n",
        "    print(\"\\n|     |     |     |  O  |     |     |     |     |\\n|     |     |     |     |     |     |  X  |     |\")\r\n",
        "  user_input = int(input(\"\\n Nice! Enter another number: \"))\r\n",
        "\r\n",
        "if user_input == 3:\r\n",
        "  print(\"\\n|     |     |  X  |  O  |     |     |     |     |\\n|     |     |     |     |     |     |     |     |\")\r\n",
        "  print(\"\\nThe computer caught you! You lost!\")\r\n",
        "elif user_input == 6:\r\n",
        "  print(\"\\n|     |     |     |     |     |  X  |  O  |     |\\n|     |     |     |     |     |     |     |     |\")\r\n",
        "  print(\"\\nThe computer caught you! You lost!\")\r\n",
        "elif user_input == 12:\r\n",
        "  print(\"\\n|     |     |     |     |     |     |     |     |\\n|     |     |  O  |  X  |     |     |     |     |\")\r\n",
        "  print(\"\\nThe computer caught you! You lost!\")\r\n",
        "elif user_input == 16:\r\n",
        "  print(\"\\n|     |     |     |     |     |     |     |     |\\n|     |     |     |     |     |     |  O  |  X  |\")\r\n",
        "  print(\"\\nThe computer caught you! You lost!\")\r\n"
      ],
      "execution_count": null,
      "outputs": []
    }
  ]
}